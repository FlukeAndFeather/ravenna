{
 "cells": [
  {
   "cell_type": "markdown",
   "metadata": {},
   "source": [
    "Can I get boto3 to work?"
   ]
  },
  {
   "cell_type": "code",
   "execution_count": 3,
   "metadata": {},
   "outputs": [],
   "source": [
    "import boto3\n",
    "from botocore import UNSIGNED\n",
    "from botocore.client import Config\n",
    "import io\n",
    "import numpy as np\n",
    "from six.moves.urllib.request import urlopen\n",
    "import soundfile as sf"
   ]
  },
  {
   "cell_type": "markdown",
   "metadata": {},
   "source": [
    "## List the contents of a monthly directory"
   ]
  },
  {
   "cell_type": "code",
   "execution_count": 4,
   "metadata": {},
   "outputs": [],
   "source": [
    "s3 = boto3.client('s3',\n",
    "    aws_access_key_id='',\n",
    "    aws_secret_access_key='', \n",
    "    config=Config(signature_version=UNSIGNED))"
   ]
  },
  {
   "cell_type": "code",
   "execution_count": 5,
   "metadata": {},
   "outputs": [
    {
     "name": "stdout",
     "output_type": "stream",
     "text": [
      "01/MARS_20180101_000406.wav\n",
      "01/MARS_20180101_001406.wav\n",
      "01/MARS_20180101_002406.wav\n",
      "01/MARS_20180101_003406.wav\n",
      "01/MARS_20180101_004406.wav\n",
      "01/MARS_20180101_005406.wav\n",
      "01/MARS_20180101_010406.wav\n",
      "01/MARS_20180101_011406.wav\n",
      "01/MARS_20180101_012406.wav\n",
      "01/MARS_20180101_013406.wav\n",
      "01/MARS_20180101_014406.wav\n",
      "01/MARS_20180101_015406.wav\n",
      "01/MARS_20180101_020406.wav\n",
      "01/MARS_20180101_021406.wav\n",
      "01/MARS_20180101_022406.wav\n",
      "01/MARS_20180101_023406.wav\n",
      "01/MARS_20180101_024406.wav\n",
      "01/MARS_20180101_025406.wav\n",
      "01/MARS_20180101_030406.wav\n",
      "01/MARS_20180101_031406.wav\n",
      "01/MARS_20180101_032406.wav\n",
      "01/MARS_20180101_033406.wav\n"
     ]
    }
   ],
   "source": [
    "bucket = 'pacific-sound-256khz-2018'\n",
    "\n",
    "for i, obj in enumerate(s3.list_objects_v2(Bucket=bucket)['Contents']):\n",
    "  print(obj['Key'])\n",
    "  if i > 20:\n",
    "      break\n"
   ]
  },
  {
   "cell_type": "markdown",
   "metadata": {},
   "source": [
    "## Read data from a file"
   ]
  },
  {
   "cell_type": "code",
   "execution_count": 6,
   "metadata": {},
   "outputs": [
    {
     "name": "stdout",
     "output_type": "stream",
     "text": [
      "Reading data from https://pacific-sound-256khz-2018.s3.amazonaws.com/01/MARS_20180101_092406.wav\n"
     ]
    }
   ],
   "source": [
    "bucket = 'pacific-sound-256khz-2018'\n",
    "filename = '01/MARS_20180101_092406.wav'\n",
    "url = f'https://{bucket}.s3.amazonaws.com/{filename}'\n",
    "print(f'Reading data from {url}')\n",
    "x, sample_rate = sf.read(io.BytesIO(urlopen(url).read()),dtype='float32')\n"
   ]
  },
  {
   "cell_type": "markdown",
   "metadata": {},
   "source": [
    "## Make a spectrogram"
   ]
  },
  {
   "cell_type": "code",
   "execution_count": 7,
   "metadata": {},
   "outputs": [],
   "source": [
    "from scipy.signal import ShortTimeFFT\n",
    "from scipy.signal.windows import gaussian"
   ]
  },
  {
   "cell_type": "code",
   "execution_count": 9,
   "metadata": {},
   "outputs": [],
   "source": [
    "x1 = x[0:256000*60]\n",
    "g_std = 8  # standard deviation for Gaussian window in samples\n",
    "w = gaussian(128, std=g_std, sym=True)  # symmetric Gaussian window\n",
    "SFT = ShortTimeFFT(w, hop=10, fs=sample_rate, mfft=512, scale_to='magnitude')\n",
    "Sx = SFT.stft(x1)  # perform the STFT"
   ]
  },
  {
   "cell_type": "code",
   "execution_count": 16,
   "metadata": {},
   "outputs": [
    {
     "data": {
      "text/plain": [
       "15360000"
      ]
     },
     "execution_count": 16,
     "metadata": {},
     "output_type": "execute_result"
    }
   ],
   "source": [
    "len(x1)"
   ]
  },
  {
   "cell_type": "code",
   "execution_count": null,
   "metadata": {},
   "outputs": [
    {
     "name": "stderr",
     "output_type": "stream",
     "text": [
      "Matplotlib is building the font cache; this may take a moment.\n"
     ]
    },
    {
     "ename": "NameError",
     "evalue": "name 'N' is not defined",
     "output_type": "error",
     "traceback": [
      "\u001b[31m---------------------------------------------------------------------------\u001b[39m",
      "\u001b[31mNameError\u001b[39m                                 Traceback (most recent call last)",
      "\u001b[36mCell\u001b[39m\u001b[36m \u001b[39m\u001b[32mIn[12]\u001b[39m\u001b[32m, line 3\u001b[39m\n\u001b[32m      1\u001b[39m \u001b[38;5;28;01mimport\u001b[39;00m\u001b[38;5;250m \u001b[39m\u001b[34;01mmatplotlib\u001b[39;00m\u001b[34;01m.\u001b[39;00m\u001b[34;01mpyplot\u001b[39;00m\u001b[38;5;250m \u001b[39m\u001b[38;5;28;01mas\u001b[39;00m\u001b[38;5;250m \u001b[39m\u001b[34;01mplt\u001b[39;00m\n\u001b[32m      2\u001b[39m fig1, ax1 = plt.subplots(figsize=(\u001b[32m6.\u001b[39m, \u001b[32m4.\u001b[39m))  \u001b[38;5;66;03m# enlarge plot a bit\u001b[39;00m\n\u001b[32m----> \u001b[39m\u001b[32m3\u001b[39m t_lo, t_hi = SFT.extent(\u001b[43mN\u001b[49m)[:\u001b[32m2\u001b[39m]  \u001b[38;5;66;03m# time range of plot\u001b[39;00m\n\u001b[32m      4\u001b[39m ax1.set_title(\u001b[33mrf\u001b[39m\u001b[33m\"\u001b[39m\u001b[33mSTFT (\u001b[39m\u001b[38;5;132;01m{\u001b[39;00mSFT.m_num*SFT.T\u001b[38;5;132;01m:\u001b[39;00m\u001b[33mg\u001b[39m\u001b[38;5;132;01m}\u001b[39;00m\u001b[33m$\u001b[39m\u001b[33m\\\u001b[39m\u001b[33m,s$ Gaussian window, \u001b[39m\u001b[33m\"\u001b[39m +\n\u001b[32m      5\u001b[39m               \u001b[33mrf\u001b[39m\u001b[33m\"\u001b[39m\u001b[33m$\u001b[39m\u001b[33m\\\u001b[39m\u001b[33msigma_t=\u001b[39m\u001b[38;5;132;01m{\u001b[39;00mg_std*SFT.T\u001b[38;5;132;01m}\u001b[39;00m\u001b[33m\\\u001b[39m\u001b[33m,$s)\u001b[39m\u001b[33m\"\u001b[39m)\n\u001b[32m      6\u001b[39m ax1.set(xlabel=\u001b[33mf\u001b[39m\u001b[33m\"\u001b[39m\u001b[33mTime $t$ in seconds (\u001b[39m\u001b[38;5;132;01m{\u001b[39;00mSFT.p_num(N)\u001b[38;5;132;01m}\u001b[39;00m\u001b[33m slices, \u001b[39m\u001b[33m\"\u001b[39m +\n\u001b[32m      7\u001b[39m                \u001b[33mrf\u001b[39m\u001b[33m\"\u001b[39m\u001b[33m$\u001b[39m\u001b[33m\\\u001b[39m\u001b[33mDelta t = \u001b[39m\u001b[38;5;132;01m{\u001b[39;00mSFT.delta_t\u001b[38;5;132;01m:\u001b[39;00m\u001b[33mg\u001b[39m\u001b[38;5;132;01m}\u001b[39;00m\u001b[33m\\\u001b[39m\u001b[33m,$s)\u001b[39m\u001b[33m\"\u001b[39m,\n\u001b[32m      8\u001b[39m         ylabel=\u001b[33mf\u001b[39m\u001b[33m\"\u001b[39m\u001b[33mFreq. $f$ in Hz (\u001b[39m\u001b[38;5;132;01m{\u001b[39;00mSFT.f_pts\u001b[38;5;132;01m}\u001b[39;00m\u001b[33m bins, \u001b[39m\u001b[33m\"\u001b[39m +\n\u001b[32m      9\u001b[39m                \u001b[33mrf\u001b[39m\u001b[33m\"\u001b[39m\u001b[33m$\u001b[39m\u001b[33m\\\u001b[39m\u001b[33mDelta f = \u001b[39m\u001b[38;5;132;01m{\u001b[39;00mSFT.delta_f\u001b[38;5;132;01m:\u001b[39;00m\u001b[33mg\u001b[39m\u001b[38;5;132;01m}\u001b[39;00m\u001b[33m\\\u001b[39m\u001b[33m,$Hz)\u001b[39m\u001b[33m\"\u001b[39m,\n\u001b[32m     10\u001b[39m         xlim=(t_lo, t_hi))\n",
      "\u001b[31mNameError\u001b[39m: name 'N' is not defined"
     ]
    },
    {
     "data": {
      "image/png": "[encoded data removed]",
      "text/plain": [
       "<Figure size 600x400 with 1 Axes>"
      ]
     },
     "metadata": {},
     "output_type": "display_data"
    }
   ],
   "source": [
    "import matplotlib.pyplot as plt\n",
    "N = len(x1)\n",
    "t_x = np.arange(N) / sample_rate\n",
    "fig1, ax1 = plt.subplots(figsize=(6., 4.))  # enlarge plot a bit\n",
    "t_lo, t_hi = SFT.extent(N)[:2]  # time range of plot\n",
    "ax1.set_title(rf\"STFT ({SFT.m_num*SFT.T:g}$\\,s$ Gaussian window, \" +\n",
    "              rf\"$\\sigma_t={g_std*SFT.T}\\,$s)\")\n",
    "ax1.set(xlabel=f\"Time $t$ in seconds ({SFT.p_num(N)} slices, \" +\n",
    "               rf\"$\\Delta t = {SFT.delta_t:g}\\,$s)\",\n",
    "        ylabel=f\"Freq. $f$ in Hz ({SFT.f_pts} bins, \" +\n",
    "               rf\"$\\Delta f = {SFT.delta_f:g}\\,$Hz)\",\n",
    "        xlim=(t_lo, t_hi))\n",
    "\n",
    "im1 = ax1.imshow(abs(Sx), origin='lower', aspect='auto',\n",
    "                 extent=SFT.extent(N), cmap='viridis')\n",
    "ax1.plot(t_x, f_i, 'r--', alpha=.5, label='$f_i(t)$')\n",
    "fig1.colorbar(im1, label=\"Magnitude $|S_x(t, f)|$\")"
   ]
  }
 ],
 "metadata": {
  "kernelspec": {
   "display_name": "ravenna",
   "language": "python",
   "name": "python3"
  },
  "language_info": {
   "codemirror_mode": {
    "name": "ipython",
    "version": 3
   },
   "file_extension": ".py",
   "mimetype": "text/x-python",
   "name": "python",
   "nbconvert_exporter": "python",
   "pygments_lexer": "ipython3",
   "version": "3.12.9"
  }
 },
 "nbformat": 4,
 "nbformat_minor": 2
}
